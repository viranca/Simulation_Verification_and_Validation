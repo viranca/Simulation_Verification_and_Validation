{
 "cells": [
  {
   "cell_type": "code",
   "execution_count": 10,
   "metadata": {
    "scrolled": true
   },
   "outputs": [
    {
     "name": "stdout",
     "output_type": "stream",
     "text": [
      "   node  x  y  z  mises    u_x    u_y  u_z    u_m\n",
      "0     1  0  0  0    143  0.040  0.010    0  0.042\n",
      "1     2  1  2  3    135  0.041  0.009    0  0.043\n",
      "   node  x  y  z  mises    u_x    u_y  u_z    u_m\n",
      "0     1  0  0  0    130  0.040  0.010    0  0.044\n",
      "1     2  4  5  6    131  0.041  0.009    0  0.046\n"
     ]
    }
   ],
   "source": [
    "import pandas as pd\n",
    "\n",
    "vd = {'node': [1, 2], 'x': [0, 1], 'y': [0, 2], 'z': [0, 3], 'mises': [143, 135], 'u_x': [0.04, 0.041], 'u_y': [0.01, 0.009], 'u_z': [0, 0], 'u_m': [0.042, 0.043]}\n",
    "vdf = pd.DataFrame(data=vd)\n",
    "\n",
    "md = {'node': [1, 2], 'x': [0, 4], 'y': [0, 5], 'z': [0, 6], 'mises': [130, 131], 'u_x': [0.04, 0.041], 'u_y': [0.01, 0.009], 'u_z': [0, 0], 'u_m': [0.044, 0.046]}\n",
    "mdf = pd.DataFrame(data=md)\n",
    "\n",
    "print(vdf)\n",
    "print(mdf)"
   ]
  },
  {
   "cell_type": "code",
   "execution_count": 11,
   "metadata": {},
   "outputs": [],
   "source": [
    "# list of differences in deflection at every node\n",
    "du_m = []\n",
    "\n",
    "for i in range(len(vdf.u_m)):\n",
    "    du_m.append(abs(vdf.at[i, 'u_m'] - mdf.at[i, 'u_m']))"
   ]
  },
  {
   "cell_type": "code",
   "execution_count": 12,
   "metadata": {},
   "outputs": [
    {
     "name": "stdout",
     "output_type": "stream",
     "text": [
      "average difference in displacement\n",
      "average = 0.0024999999999999988\n"
     ]
    }
   ],
   "source": [
    "# average of all the differences in total displacement at every node\n",
    "averagedu_m = sum(du_m)/len(du_m)\n",
    "\n",
    "print('average difference in displacement')\n",
    "print('average =', averagedu_m)"
   ]
  },
  {
   "cell_type": "code",
   "execution_count": 13,
   "metadata": {},
   "outputs": [
    {
     "name": "stdout",
     "output_type": "stream",
     "text": [
      "difference in total displacement at the node where the max deflection is found by the numerical solution\n",
      "difference = 0.0030000000000000027\n"
     ]
    }
   ],
   "source": [
    "# difference in total displacement at the node where the max deflection is found by the numerical solution\n",
    "\n",
    "# finding the node at which the model found the maximum displacement\n",
    "maxu_m1 = max(mdf.u_m)\n",
    "row_max1 = mdf.loc[mdf['u_m'] == maxu_m1]\n",
    "node_max1 = row_max1['node'].tolist()[0]\n",
    "\n",
    "# finding the displacement according to the validation data at the same node\n",
    "lst_node1 = vdf['node'].tolist()\n",
    "ind_node1 = lst_node1.index(node_max1)\n",
    "vu_m1 = vdf.at[ind_node1, 'u_m']\n",
    "\n",
    "du_m2 = maxu_m1 - vu_m1\n",
    "\n",
    "print('difference in total displacement at the node where the max deflection is found by the numerical solution')\n",
    "print('difference =', du_m2)"
   ]
  },
  {
   "cell_type": "code",
   "execution_count": 14,
   "metadata": {},
   "outputs": [
    {
     "name": "stdout",
     "output_type": "stream",
     "text": [
      "difference in total displacement at the node where the max deflection is found by the validation solution\n",
      "difference = -0.0030000000000000027\n"
     ]
    }
   ],
   "source": [
    "# difference in total displacement at the node where the max deflection is found by the validation solution\n",
    "\n",
    "# finding the node at which the validation data found the maximum displacement\n",
    "maxu_m2 = max(vdf.u_m)\n",
    "row_max2 = vdf.loc[vdf['u_m'] == maxu_m2]\n",
    "node_max2 = row_max2['node'].tolist()[0]\n",
    "\n",
    "# finding the displacement according to the model at the same node\n",
    "lst_node2 = mdf['node'].tolist()\n",
    "ind_node2 = lst_node2.index(node_max2)\n",
    "vu_m2 = mdf.at[ind_node2, 'u_m']\n",
    "\n",
    "du_m3 = maxu_m2 - vu_m2\n",
    "\n",
    "print('difference in total displacement at the node where the max deflection is found by the validation solution')\n",
    "print('difference =', du_m3)"
   ]
  },
  {
   "cell_type": "code",
   "execution_count": 15,
   "metadata": {},
   "outputs": [
    {
     "name": "stdout",
     "output_type": "stream",
     "text": [
      "location of the of the node where the maximum deflection is found by the model\n",
      "x1 = 4\n",
      "y1 = 5\n",
      "z1 = 6\n",
      "\n",
      "location of the of the node where the maximum deflection is found by the validation data\n",
      "x2 = 1\n",
      "y2 = 2\n",
      "z2 = 3\n",
      "\n",
      "distance between the two locations\n",
      "distance = 5.196152422706632\n"
     ]
    }
   ],
   "source": [
    "# distance between the node where the maximum deflection was found by the the model and the node where the maximum\n",
    "# deflection was found by the validation data\n",
    "\n",
    "# location of the of the node where the maximum deflection is found by the model\n",
    "x1 = mdf.at[ind_node1, 'x']\n",
    "y1 = mdf.at[ind_node1, 'y']\n",
    "z1 = mdf.at[ind_node1, 'z']\n",
    "\n",
    "# location of the of the node where the maximum deflection is found by the validation data\n",
    "x2 = vdf.at[ind_node2, 'x']\n",
    "y2 = vdf.at[ind_node2, 'y']\n",
    "z2 = vdf.at[ind_node2, 'z']\n",
    "\n",
    "print('location of the of the node where the maximum deflection is found by the model')\n",
    "print('x1 =', x1)\n",
    "print('y1 =', y1)\n",
    "print('z1 =', z1)\n",
    "print()\n",
    "print('location of the of the node where the maximum deflection is found by the validation data')\n",
    "print('x2 =', x2)\n",
    "print('y2 =', y2)\n",
    "print('z2 =', z2)\n",
    "print()\n",
    "\n",
    "# distance between the two locations\n",
    "dis = ((x2-x1)**2 + (y2-y1)**2 + (z2-z1)**2)**0.5\n",
    "print('distance between the two locations')\n",
    "print('distance =', dis)"
   ]
  },
  {
   "cell_type": "code",
   "execution_count": 16,
   "metadata": {},
   "outputs": [
    {
     "name": "stdout",
     "output_type": "stream",
     "text": [
      "[13, 4]\n"
     ]
    }
   ],
   "source": [
    "# list of differences in Von Mises stresses at every node\n",
    "dmises = []\n",
    "\n",
    "for i in range(len(vdf.mises)):\n",
    "    dmises.append(abs(vdf.at[i, 'mises'] - mdf.at[i, 'mises']))"
   ]
  },
  {
   "cell_type": "code",
   "execution_count": 17,
   "metadata": {},
   "outputs": [
    {
     "name": "stdout",
     "output_type": "stream",
     "text": [
      "average difference in Von Mises stresses\n",
      "average = 8.5\n"
     ]
    }
   ],
   "source": [
    "# average of all the differences in Von Mises stresses at every node\n",
    "\n",
    "average_dmises = sum(dmises)/len(dmises)\n",
    "\n",
    "print('average difference in Von Mises stresses')\n",
    "print('average =', average_dmises)"
   ]
  },
  {
   "cell_type": "code",
   "execution_count": 21,
   "metadata": {},
   "outputs": [
    {
     "name": "stdout",
     "output_type": "stream",
     "text": [
      "maximum Von Mises stresses (validation data): 143\n",
      "maximum Von Mises stresses (model data): 131\n"
     ]
    }
   ],
   "source": [
    "#maximum Von Mises stresses found in the validation data and the model data\n",
    "max_v_mises = max(vdf.mises)\n",
    "max_m_mises = max(mdf.mises)\n",
    "\n",
    "print('maximum Von Mises stresses (validation data):', max_v_mises)\n",
    "print('maximum Von Mises stresses (model data):', max_m_mises)"
   ]
  },
  {
   "cell_type": "code",
   "execution_count": null,
   "metadata": {},
   "outputs": [],
   "source": []
  }
 ],
 "metadata": {
  "kernelspec": {
   "display_name": "Python 3",
   "language": "python",
   "name": "python3"
  },
  "language_info": {
   "codemirror_mode": {
    "name": "ipython",
    "version": 3
   },
   "file_extension": ".py",
   "mimetype": "text/x-python",
   "name": "python",
   "nbconvert_exporter": "python",
   "pygments_lexer": "ipython3",
   "version": "3.6.8"
  }
 },
 "nbformat": 4,
 "nbformat_minor": 2
}
